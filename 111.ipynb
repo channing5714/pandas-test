{
 "cells": [
  {
   "cell_type": "code",
   "execution_count": 1,
   "metadata": {},
   "outputs": [],
   "source": [
    "def find_even_max(foo):\n",
    "    max_elemnt = foo[0]\n",
    "    for v in foo:\n",
    "        if v % 2 == 0 and v > max_elemnt:\n",
    "            max_elemnt = v\n",
    "    return max_elemnt\n"
   ]
  },
  {
   "cell_type": "code",
   "execution_count": 4,
   "metadata": {},
   "outputs": [
    {
     "name": "stdout",
     "output_type": "stream",
     "text": [
      "the max element in [38, -1, 97, 66, 42, 13] is 66\n"
     ]
    }
   ],
   "source": [
    "bar =[38,-1,97,66,42,13]\n",
    "max_ele = find_even_max(bar)\n",
    "print(f'the max element in {bar} is {max_ele}')\n",
    "\n",
    "#step into 進入函式點,深入函式看有沒有問題"
   ]
  },
  {
   "cell_type": "code",
   "execution_count": null,
   "metadata": {},
   "outputs": [],
   "source": []
  }
 ],
 "metadata": {
  "kernelspec": {
   "display_name": "iem",
   "language": "python",
   "name": "python3"
  },
  "language_info": {
   "codemirror_mode": {
    "name": "ipython",
    "version": 3
   },
   "file_extension": ".py",
   "mimetype": "text/x-python",
   "name": "python",
   "nbconvert_exporter": "python",
   "pygments_lexer": "ipython3",
   "version": "3.11.8"
  }
 },
 "nbformat": 4,
 "nbformat_minor": 2
}
